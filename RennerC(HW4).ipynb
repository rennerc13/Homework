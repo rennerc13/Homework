{
 "cells": [
  {
   "cell_type": "markdown",
   "metadata": {},
   "source": [
    "# Week 4 Homework\n",
    "\n",
    "### What does one need to do to use a module?\n",
    "##### Import the module you want to use in your codebase\n",
    "### Name a Module (not the DateTime Nodule) we looked at and write a line or 2 of code as an example using this module.\n",
    "##### Math module - \n",
    "###### import math \n",
    "###### math.pi\n",
    "### What is a benefit of using Exception handling?\n",
    "##### Exception handling helps us to find errors\n",
    "### What are the 4 components used for Python Exception Handling?\n",
    "##### try, except, else, finally\n",
    "### NumPy arrays are like what Python data type?\n",
    "##### Numpy arrays are like python lists.\n",
    "## #What is one of the main benefits of using NumPy arrays.\n",
    "##### numpy arrays are faster in solving numerical operations\n",
    "### What is one of the main requirements about the 'dtype' of NumPy arrays?\n",
    "##### must have the same data type\n",
    "### Of the 10 uses of NumPy, name 2.\n",
    "##### Arithmetic operation and mathemical operation\n",
    "### Name one of the other libraries we'll use with NumPy?\n",
    "##### Pandas\n",
    "### What is the shape of NumPy arrays?\n",
    "##### Numpy arrays are multidemnsional array. Size reflects the number of elements in the array. The shape is a tuple of non-negative integers that specify the dimensions, length and size of each array (3,2,4)\n",
    "### What is a Tensor?\n",
    "##### 3D array\n",
    "### Name a reason why it's better using NumPy for Data Analysis than using a Python List?\n",
    "##### Numpy is better and faster at handling large datasets\n",
    "### When creating an \"empty\" array, where do the elements come from?\n",
    "###### it creates values based on memory\n"
   ]
  },
  {
   "cell_type": "code",
   "execution_count": 21,
   "metadata": {},
   "outputs": [
    {
     "name": "stdout",
     "output_type": "stream",
     "text": [
      "Renting a car is very expensive.\n"
     ]
    }
   ],
   "source": [
    "# 1.Create an if statement: if 'age' is greater than or equal to 25, print \"Renting a car is more affordable\", however if 'age' is less than 25, print \"Renting a car is very expensive.\"\n",
    "age = int(input(\"Enter age: \"))\n",
    "if age >= 25:\n",
    "    print(\"Renting a car is more affordable\")\n",
    "else:\n",
    "    print(\"Renting a car is very expensive.\")"
   ]
  },
  {
   "cell_type": "code",
   "execution_count": 23,
   "metadata": {},
   "outputs": [
    {
     "name": "stdout",
     "output_type": "stream",
     "text": [
      "You cannot legally rent a car.\n"
     ]
    }
   ],
   "source": [
    "# 2. Create and chain an if-else  statement: if 'age' is greater than or equal to 25, print \"Renting a car is more affordable.\" If 'age' is less than 25 but greater than or equal to 18, print \"Renting a car is very expensive.\" Finally, if age is less than 18, print \"You cannot legally rent a car.\"\n",
    "age = int(input(\"Enter age: \"))\n",
    "if age >= 25: \n",
    "     print(\"Renting a car is more affordable\")\n",
    "else:  \n",
    "    if age >= 18:\n",
    "        print(\"Renting a car is very expensive.\")\n",
    "    else:\n",
    "        print(\"You cannot legally rent a car.\")"
   ]
  },
  {
   "cell_type": "code",
   "execution_count": 81,
   "metadata": {},
   "outputs": [
    {
     "name": "stdout",
     "output_type": "stream",
     "text": [
      "43 vowels: euioouoeeao\n"
     ]
    }
   ],
   "source": [
    "# 3. Loop over the following string to (1) count all the characters in the string and (2) print out all the vowels -- \"The quick brown fox jumps over the lazy dog\"\n",
    "string = \"The quick brown fox jumps over the lazy dog\"\n",
    "count = 0\n",
    "vowels = \"vowels: \"\n",
    "for character in string:\n",
    "    count += 1\n",
    "    if character in \"aeiou\":\n",
    "        vowels += character\n",
    "print(count, vowels)"
   ]
  },
  {
   "cell_type": "code",
   "execution_count": 25,
   "metadata": {},
   "outputs": [
    {
     "name": "stdout",
     "output_type": "stream",
     "text": [
      "trousers cerise\n",
      "trousers fuchsia\n",
      "trousers aqua\n",
      "trousers maple\n",
      "trousers auburn\n",
      "trousers burnt sienna\n",
      "trousers gunmetal blue\n",
      "trousers Dark Sapphire\n",
      "blouse cerise\n",
      "blouse fuchsia\n",
      "blouse aqua\n",
      "blouse maple\n",
      "blouse auburn\n",
      "blouse burnt sienna\n",
      "blouse gunmetal blue\n",
      "blouse Dark Sapphire\n",
      "bandana cerise\n",
      "bandana fuchsia\n",
      "bandana aqua\n",
      "bandana maple\n",
      "bandana auburn\n",
      "bandana burnt sienna\n",
      "bandana gunmetal blue\n",
      "bandana Dark Sapphire\n",
      "cumber band cerise\n",
      "cumber band fuchsia\n",
      "cumber band aqua\n",
      "cumber band maple\n",
      "cumber band auburn\n",
      "cumber band burnt sienna\n",
      "cumber band gunmetal blue\n",
      "cumber band Dark Sapphire\n",
      "blazer cerise\n",
      "blazer fuchsia\n",
      "blazer aqua\n",
      "blazer maple\n",
      "blazer auburn\n",
      "blazer burnt sienna\n",
      "blazer gunmetal blue\n",
      "blazer Dark Sapphire\n",
      "vest cerise\n",
      "vest fuchsia\n",
      "vest aqua\n",
      "vest maple\n",
      "vest auburn\n",
      "vest burnt sienna\n",
      "vest gunmetal blue\n",
      "vest Dark Sapphire\n",
      "french beret cerise\n",
      "french beret fuchsia\n",
      "french beret aqua\n",
      "french beret maple\n",
      "french beret auburn\n",
      "french beret burnt sienna\n",
      "french beret gunmetal blue\n",
      "french beret Dark Sapphire\n",
      "scarf cerise\n",
      "scarf fuchsia\n",
      "scarf aqua\n",
      "scarf maple\n",
      "scarf auburn\n",
      "scarf burnt sienna\n",
      "scarf gunmetal blue\n",
      "scarf Dark Sapphire\n",
      "stole cerise\n",
      "stole fuchsia\n",
      "stole aqua\n",
      "stole maple\n",
      "stole auburn\n",
      "stole burnt sienna\n",
      "stole gunmetal blue\n",
      "stole Dark Sapphire\n"
     ]
    }
   ],
   "source": [
    "# 4. Write a nested loop that prints out every piece of clothing from the `couture` list, in every fashionable color from the `panettone` set: couture = [\"trousers\", \"blouse\", \"bandana\", \"cumber band\", \"blazer\", \"vest\", \"french beret\", \"scarf\", \"stole\"] and panettone = {\"cerise\", \"fuchsia\", \"aqua\", \"maple\", \"auburn\", \"burnt sienna\", \"gunmetal blue\", \"Dark Sapphire\"}\n",
    "couture = [\"trousers\", \"blouse\", \"bandana\", \"cumber band\", \"blazer\", \"vest\", \"french beret\", \"scarf\", \"stole\"]  \n",
    "panettone = [\"cerise\", \"fuchsia\", \"aqua\", \"maple\", \"auburn\", \"burnt sienna\", \"gunmetal blue\", \"Dark Sapphire\"]\n",
    "for clothes in couture:\n",
    "    for color in panettone:\n",
    "        print(clothes, color)"
   ]
  },
  {
   "cell_type": "code",
   "execution_count": 28,
   "metadata": {},
   "outputs": [
    {
     "name": "stdout",
     "output_type": "stream",
     "text": [
      "5050\n"
     ]
    }
   ],
   "source": [
    "# 5. Use range as a loop to calculate the sum of all the numbers from 1 to 100\n",
    "sum = 0\n",
    "for number in range(1,101):\n",
    "    sum += number\n",
    "print(sum)"
   ]
  },
  {
   "cell_type": "code",
   "execution_count": 30,
   "metadata": {},
   "outputs": [
    {
     "name": "stdout",
     "output_type": "stream",
     "text": [
      "banana\n"
     ]
    }
   ],
   "source": [
    "# 6. Print the second item in this fruits list.\n",
    "#     [\"apple\", \"banana\", \"cherry\"]\n",
    "fruits =[\"apple\", \"banana\", \"cherry\"]\n",
    "print(fruits[1])"
   ]
  },
  {
   "cell_type": "code",
   "execution_count": 50,
   "metadata": {},
   "outputs": [
    {
     "name": "stdout",
     "output_type": "stream",
     "text": [
      "['kiwi', 'banana', 'cherry']\n"
     ]
    }
   ],
   "source": [
    "# 7. Change the value from \"apple\" to \"kiwi\", in the fruits list.\n",
    "#     [\"apple\", \"banana\", \"cherry\"]\n",
    "fruits =[\"apple\", \"banana\", \"cherry\"]\n",
    "fruits[0] = \"kiwi\"\n",
    "print(fruits)"
   ]
  },
  {
   "cell_type": "code",
   "execution_count": 48,
   "metadata": {},
   "outputs": [
    {
     "name": "stdout",
     "output_type": "stream",
     "text": [
      "['apple', 'banana', 'cherry', 'orange']\n"
     ]
    }
   ],
   "source": [
    "# 8. Use the append method to add \"orange\" to the fruits list.\n",
    "#     [\"apple\", \"banana\", \"cherry\"]\n",
    "fruits =[\"apple\", \"banana\", \"cherry\"]\n",
    "fruits.append(\"orange\")\n",
    "print(fruits)"
   ]
  },
  {
   "cell_type": "code",
   "execution_count": 55,
   "metadata": {},
   "outputs": [
    {
     "name": "stdout",
     "output_type": "stream",
     "text": [
      "['apple', 'lemon', 'banana', 'cherry']\n"
     ]
    }
   ],
   "source": [
    "# 9. Use the insert method to add \"lemon\" as the second item in the fruits list.\n",
    "#     [\"apple\", \"banana\", \"cherry\"]\n",
    "fruits =[\"apple\", \"banana\", \"cherry\"]\n",
    "fruits.insert(1,\"lemon\")\n",
    "print(fruits)"
   ]
  },
  {
   "cell_type": "code",
   "execution_count": 56,
   "metadata": {},
   "outputs": [
    {
     "name": "stdout",
     "output_type": "stream",
     "text": [
      "['apple', 'cherry']\n"
     ]
    }
   ],
   "source": [
    "# 10. Use the remove method to remove \"banana\" from the fruits list.\n",
    "#     [\"apple\", \"banana\", \"cherry\"]\n",
    "fruits =[\"apple\", \"banana\", \"cherry\"]\n",
    "fruits.remove(\"banana\")"
   ]
  },
  {
   "cell_type": "code",
   "execution_count": 62,
   "metadata": {},
   "outputs": [
    {
     "data": {
      "text/plain": [
       "['kiwi', 'melon']"
      ]
     },
     "execution_count": 62,
     "metadata": {},
     "output_type": "execute_result"
    }
   ],
   "source": [
    "# 11. Use negative indexing to print the 3rd and 2nd to last items in the list.\n",
    "#     [\"apple\", \"banana\", \"cherry\", \"orange\", \"kiwi\", \"melon\", \"mango\"]\n",
    "fruits = [\"apple\", \"banana\", \"cherry\", \"orange\", \"kiwi\", \"melon\", \"mango\"]\n",
    "fruits[-3:-1]"
   ]
  },
  {
   "cell_type": "code",
   "execution_count": 64,
   "metadata": {},
   "outputs": [
    {
     "data": {
      "text/plain": [
       "['cherry', 'orange', 'kiwi']"
      ]
     },
     "execution_count": 64,
     "metadata": {},
     "output_type": "execute_result"
    }
   ],
   "source": [
    "# 12. Use a range of indexes to print the third, fourth, and fifth item in the list.\n",
    "#     [\"apple\", \"banana\", \"cherry\", \"orange\", \"kiwi\", \"melon\", \"mango\"]\n",
    "fruits = [\"apple\", \"banana\", \"cherry\", \"orange\", \"kiwi\", \"melon\", \"mango\"]\n",
    "fruits[2:5]"
   ]
  },
  {
   "cell_type": "code",
   "execution_count": 73,
   "metadata": {},
   "outputs": [
    {
     "name": "stdout",
     "output_type": "stream",
     "text": [
      "7\n"
     ]
    }
   ],
   "source": [
    "# 13. Use the correct syntax to print the number of items in the list.\n",
    "#     [\"apple\", \"banana\", \"cherry\", \"orange\", \"kiwi\", \"melon\", \"mango\"]\n",
    "fruits = [\"apple\", \"banana\", \"cherry\", \"orange\", \"kiwi\", \"melon\", \"mango\"]\n",
    "total_fruits = len(fruits)\n",
    "print(total_fruits)"
   ]
  },
  {
   "cell_type": "code",
   "execution_count": 69,
   "metadata": {},
   "outputs": [
    {
     "name": "stdout",
     "output_type": "stream",
     "text": [
      "['apple', 'banana', 'cherry', 'kiwi', 'mango', 'melon', 'orange']\n"
     ]
    }
   ],
   "source": [
    "# 14. Use the correct syntax to sort this list in reverse order\n",
    "#     [\"apple\", \"banana\", \"cherry\", \"orange\", \"kiwi\", \"melon\", \"mango\"]\n",
    "fruits = [\"apple\", \"banana\", \"cherry\", \"orange\", \"kiwi\", \"melon\", \"mango\"]\n",
    "fruits.sort()\n",
    "print(fruits)"
   ]
  },
  {
   "cell_type": "code",
   "execution_count": 87,
   "metadata": {},
   "outputs": [
    {
     "name": "stdout",
     "output_type": "stream",
     "text": [
      "October\n"
     ]
    }
   ],
   "source": [
    "# 15. Use the DateTime module to get Current Date and Time, and save it to a variable. Then extract just the Full month name form that variable.\n",
    "import datetime as dt\n",
    "today = dt.datetime.now()\n",
    "print(today.strftime(\"%B\"))"
   ]
  },
  {
   "cell_type": "code",
   "execution_count": 104,
   "metadata": {},
   "outputs": [
    {
     "name": "stdout",
     "output_type": "stream",
     "text": [
      "Hi Alexa! Happy Friday!\n",
      "Hi Alex! Happy Sunday!\n"
     ]
    }
   ],
   "source": [
    "# 16. Write a simple function that takes 2 parameters -- a  first name and a day name.\n",
    "#     - Set a default value for the day name of Sunday.\n",
    "#     - Have the function print out a greeting -- using the parameters -- that says something like \"Hi first-name! Happy day-name!\". Remember to use the variables in the greeting to replace first-name and day-name.  \n",
    "#     - Invoke this function with 2 variables.\n",
    "#     - Invoke this function with 1 variable only.\n",
    "def printgreeting(fname, day = \"Sunday\" ):\n",
    "    print(f\"Hi {fname}! Happy {day}!\")\n",
    "printgreeting(\"Alexa\",\"Friday\")\n",
    "printgreeting(\"Alex\")"
   ]
  },
  {
   "cell_type": "code",
   "execution_count": 124,
   "metadata": {},
   "outputs": [
    {
     "name": "stdout",
     "output_type": "stream",
     "text": [
      "'int' object is not callable\n",
      "Goodbye\n"
     ]
    }
   ],
   "source": [
    "# 17. Write a block of code to handle one of the most common Python exception errors. Select one of the common errors from the curriculum section on Python Exception handling. Have your code example uses the `try`,`except`, `else`, and `finally` components.\n",
    "num = 1\n",
    "try: \n",
    "    sum = num (+ 4)\n",
    "    print(sum)\n",
    "except TypeError:\n",
    "    print(\"'int' object is not callable\")\n",
    "else:\n",
    "    print(\"Nothing went wrong\")\n",
    "finally:\n",
    "    print(\"Goodbye\")"
   ]
  }
 ],
 "metadata": {
  "kernelspec": {
   "display_name": "Python 3",
   "language": "python",
   "name": "python3"
  },
  "language_info": {
   "codemirror_mode": {
    "name": "ipython",
    "version": 3
   },
   "file_extension": ".py",
   "mimetype": "text/x-python",
   "name": "python",
   "nbconvert_exporter": "python",
   "pygments_lexer": "ipython3",
   "version": "3.12.0"
  }
 },
 "nbformat": 4,
 "nbformat_minor": 2
}
