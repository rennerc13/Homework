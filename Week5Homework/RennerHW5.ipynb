{
 "cells": [
  {
   "cell_type": "markdown",
   "metadata": {},
   "source": [
    "# RennerC. Week 5 Homework\n",
    "\n",
    "### What does Pandas stand for?\n",
    "##### Panel Data or Python Data Analysis\n",
    "### What are the 2 collections used in Pandas?\n",
    "##### Series and Data Frame\n",
    "### Name 4 things Pandas can do for us.\n",
    "##### Data Cleaning, Data Normalization, Data Visualization, and Data Inspection\n",
    "### To permanently sort a DataFrame, which keyword should one use with the df.sort() method?\n",
    "##### inplace=True\n",
    "### What is a CSV?\n",
    "##### Comma-separated-value - organized data in rows and columns like a table\n",
    "### When cleaning data what values do we not like in our data?\n",
    "##### Nulls, duplicates, and incorrect data, "
   ]
  },
  {
   "cell_type": "code",
   "execution_count": 2,
   "metadata": {},
   "outputs": [
    {
     "name": "stdout",
     "output_type": "stream",
     "text": [
      "[[[ 0  1]\n",
      "  [ 2  3]\n",
      "  [ 4  5]]\n",
      "\n",
      " [[ 6  7]\n",
      "  [ 8  9]\n",
      "  [10 11]]]\n"
     ]
    }
   ],
   "source": [
    "# 7. Import NumPy, use one of the NumPy methods and create an array with a shape of (2, 3, 2). You can use the reshape method -- `.reshape()`\n",
    "import numpy as np\n",
    "shapedArray = np.arange(12).reshape((2,3,2))\n",
    "print(shapedArray)\n"
   ]
  },
  {
   "cell_type": "code",
   "execution_count": 4,
   "metadata": {},
   "outputs": [
    {
     "name": "stdout",
     "output_type": "stream",
     "text": [
      "[ 0.  4.  8. 12. 16. 20.]\n"
     ]
    }
   ],
   "source": [
    "# 8. Use NumPy `.linspace()` to create an array with 6 linearly spaced values between 0 and 20\n",
    "six = np.linspace(0, 20, num=6)\n",
    "print(six)"
   ]
  },
  {
   "cell_type": "code",
   "execution_count": 5,
   "metadata": {},
   "outputs": [
    {
     "name": "stdout",
     "output_type": "stream",
     "text": [
      "[ 0.  4.  8. 12. 16. 20.]\n"
     ]
    }
   ],
   "source": [
    "# 9. Make a Deep Copy of the above array\n",
    "import copy\n",
    "copy6 = copy.deepcopy(six)\n",
    "print(copy6)"
   ]
  },
  {
   "cell_type": "code",
   "execution_count": 7,
   "metadata": {},
   "outputs": [
    {
     "name": "stdout",
     "output_type": "stream",
     "text": [
      "[[25 16]\n",
      " [11  2]\n",
      " [13  4]\n",
      " [ 7 81]\n",
      " [ 5  6]\n",
      " [11 12]]\n"
     ]
    }
   ],
   "source": [
    "# 10. Concatenate these 3 arrays into a new array named 'newArray'...\n",
    "#    ```python\n",
    "#             ([[25, 16]])\n",
    "#             ([[11, 2], [13, 4]])\n",
    "#             ([[7, 81], [5, 6], [11, 12]])\n",
    "#     ```\n",
    "\n",
    "a1= ([[25, 16]])\n",
    "a2 = ([[11, 2], [13, 4]])\n",
    "a3 = ([[7, 81], [5, 6], [11, 12]])\n",
    "\n",
    "newarray = np.concatenate((a1, a2, a3), axis = 0)\n",
    "print(newarray)"
   ]
  },
  {
   "cell_type": "code",
   "execution_count": 8,
   "metadata": {},
   "outputs": [
    {
     "name": "stdout",
     "output_type": "stream",
     "text": [
      "[[16 25]\n",
      " [ 2 11]\n",
      " [ 4 13]\n",
      " [ 7 81]\n",
      " [ 5  6]\n",
      " [11 12]]\n"
     ]
    }
   ],
   "source": [
    "# 11. Sort 'newArray' in order into 'sortedArray'\n",
    "sortedarray = np.sort(newarray)\n",
    "print(sortedarray)"
   ]
  },
  {
   "cell_type": "code",
   "execution_count": 19,
   "metadata": {},
   "outputs": [
    {
     "name": "stdout",
     "output_type": "stream",
     "text": [
      "[16 25  2]\n",
      "[11  4 13]\n",
      "[ 7 81  5]\n",
      "[ 6 11 12]\n"
     ]
    }
   ],
   "source": [
    "# 12. Unpack the array tuples from the above 'reshapedArray'  into 4 well named variables. Print the 4 variables.\n",
    "reshapedArray = sortedarray.reshape(4,3,)\n",
    "v1, v2, v3, v4 = reshapedArray\n",
    "print(v1)\n",
    "print(v2)\n",
    "print(v3)\n",
    "print(v4)\n"
   ]
  },
  {
   "cell_type": "code",
   "execution_count": 7,
   "metadata": {},
   "outputs": [
    {
     "name": "stdout",
     "output_type": "stream",
     "text": [
      "[ 0  1  2  3  4  5  6  7 10 11 12 13 14 15 16 17 20 21 22 23 24 25 26 27]\n"
     ]
    }
   ],
   "source": [
    "# 13. Combined and sort the following arrays into one called 'comboArray' ...\n",
    "#         one = ([10, 11, 12, 13, 14, 15, 16, 17])\n",
    "#         two = ([20, 21, 22, 23, 24, 25, 26, 27])\n",
    "#         three = ([ 0, 1, 2, 3, 4, 5, 6, 7])\n",
    "one = ([10, 11, 12, 13, 14, 15, 16, 17])\n",
    "two = ([20, 21, 22, 23, 24, 25, 26, 27])\n",
    "three = ([ 0, 1, 2, 3, 4, 5, 6, 7])\n",
    "comboArray = np.concatenate((one, two, three))\n",
    "comboArray = np.sort(comboArray)\n",
    "print(comboArray)\n"
   ]
  },
  {
   "cell_type": "code",
   "execution_count": 12,
   "metadata": {},
   "outputs": [
    {
     "name": "stdout",
     "output_type": "stream",
     "text": [
      "1\n",
      "[ 2  3  4  5  6  7 10 11 12 13 14 15 16 17 20 21 22 23 24 25 26 27]\n",
      "[ 3  4  5  6  7 10 11 12 13 14 15]\n",
      "[22 23 24 25 26 27]\n",
      "[ 0  1  2  3  4  5  6  7 10 11 12 13 14 15]\n",
      "[20 22 24 26]\n",
      "[27 22 15 10  3]\n"
     ]
    }
   ],
   "source": [
    "# 14. Take 'comboArray' and perform the following slicing activities:\n",
    "#     - print sec1 - the 2nd element\n",
    "print(comboArray[1])\n",
    "#     - print sec2 - all elements from the 3rd element to the last\n",
    "print(comboArray[2:])\n",
    "#     - print sec3 - all elements from the 4th to the 14th elements\n",
    "print(comboArray[3:14])\n",
    "#     - print sec4 - the last 6 elements\n",
    "print(comboArray[-6:])\n",
    "#     - print sec5 - all element from #0 up to and including #15, using the negative number method, i.e. taking a section from the end.\n",
    "print(comboArray[:-10])\n",
    "#     - print sec6 - from #20 every even element to the end\n",
    "print(comboArray[16::2])\n",
    "#     - print sec7 - from the last element moving forward, every 5th element.\n",
    "print(comboArray[-1::-5])\n",
    "\n"
   ]
  },
  {
   "cell_type": "code",
   "execution_count": 3,
   "metadata": {},
   "outputs": [
    {
     "data": {
      "text/html": [
       "<div>\n",
       "<style scoped>\n",
       "    .dataframe tbody tr th:only-of-type {\n",
       "        vertical-align: middle;\n",
       "    }\n",
       "\n",
       "    .dataframe tbody tr th {\n",
       "        vertical-align: top;\n",
       "    }\n",
       "\n",
       "    .dataframe thead th {\n",
       "        text-align: right;\n",
       "    }\n",
       "</style>\n",
       "<table border=\"1\" class=\"dataframe\">\n",
       "  <thead>\n",
       "    <tr style=\"text-align: right;\">\n",
       "      <th></th>\n",
       "      <th>Ingredients</th>\n",
       "      <th>Quantity</th>\n",
       "      <th>Unit</th>\n",
       "    </tr>\n",
       "  </thead>\n",
       "  <tbody>\n",
       "    <tr>\n",
       "      <th>0</th>\n",
       "      <td>Flour</td>\n",
       "      <td>4</td>\n",
       "      <td>cups</td>\n",
       "    </tr>\n",
       "    <tr>\n",
       "      <th>1</th>\n",
       "      <td>Milk</td>\n",
       "      <td>1</td>\n",
       "      <td>cup</td>\n",
       "    </tr>\n",
       "    <tr>\n",
       "      <th>2</th>\n",
       "      <td>Eggs</td>\n",
       "      <td>2</td>\n",
       "      <td>large</td>\n",
       "    </tr>\n",
       "    <tr>\n",
       "      <th>3</th>\n",
       "      <td>Spam</td>\n",
       "      <td>1</td>\n",
       "      <td>can</td>\n",
       "    </tr>\n",
       "  </tbody>\n",
       "</table>\n",
       "</div>"
      ],
      "text/plain": [
       "  Ingredients  Quantity   Unit\n",
       "0       Flour         4   cups\n",
       "1        Milk         1    cup\n",
       "2        Eggs         2  large\n",
       "3        Spam         1    can"
      ]
     },
     "execution_count": 3,
     "metadata": {},
     "output_type": "execute_result"
    }
   ],
   "source": [
    "# 15. Using `Series`, create a `DataFrame` that looks like this:\n",
    "\n",
    "#     | Ingredients | Quantity | Unit |\n",
    "#     |----|----|----|\n",
    "#     | Flour | 4 | cups |\n",
    "#     | Milk | 1 | cup |\n",
    "#     | Eggs | 2 | large |\n",
    "#     | Spam | 1 | can |\n",
    "\n",
    "#     Name: Dinner, dtype: object\n",
    "import pandas as pd\n",
    "Ingredients = pd.Series([\"Flour\",\"Milk\",\"Eggs\", \"Spam\"], name= 'Ingredients')\n",
    "Quantity = pd.Series([4,1,2,1],name= 'Quantity')\n",
    "Unit  = pd.Series([\"cups\",\"cup\", \"large\", \"can\"],name= 'Unit')\n",
    "df = pd.concat([Ingredients, Quantity, Unit], axis = 1)\n",
    "df.name = \"Dinner\"\n",
    "df\n"
   ]
  },
  {
   "cell_type": "code",
   "execution_count": 10,
   "metadata": {},
   "outputs": [
    {
     "name": "stdout",
     "output_type": "stream",
     "text": [
      "      Name  Height Qualification  address  Age        Pets           sport\n",
      "0      Jai     5.1           Msc    Delhi   21         Dog           Darts\n",
      "1  janusha     6.2            MA     Doha   23       Bunny      Basketball\n",
      "2   Gaurav     5.1           Msc  Chennai   24  Chinchilla  PaddleBoarding\n",
      "3     Anuj     5.2           Msc   Dakhar   21      Parrot         Cricket\n"
     ]
    }
   ],
   "source": [
    "\n",
    "# 16. Take this data and create a DataFrame named studentData\n",
    "#         {'Name': ['Jai', 'janusha', 'Gaurav', 'Anuj'],\n",
    "#             'Height': [5.1, 6.2, 5.1, 5.2],\n",
    "#             'Qualification': ['Msc', 'MA', 'Msc', 'Msc'],\n",
    "#             'address': ['Delhi', 'Doha', 'Chennai', 'Dakhar'],\n",
    "#             'Age': [21, 23, 24, 21],\n",
    "#             'Pets': ['Dog', 'Bunny', 'Chinchilla', 'Parrot'],\n",
    "#             'sport': ['Darts', 'Basketball', 'PaddleBoarding', 'Cricket']\n",
    "\n",
    "students = {\n",
    "    'Name': ['Jai', 'janusha', 'Gaurav', 'Anuj'],\n",
    "    'Height': [5.1, 6.2, 5.1, 5.2],\n",
    "    'Qualification': ['Msc', 'MA', 'Msc', 'Msc'],\n",
    "    'address': ['Delhi', 'Doha', 'Chennai', 'Dakhar'],\n",
    "    'Age': [21, 23, 24, 21],\n",
    "    'Pets': ['Dog', 'Bunny', 'Chinchilla', 'Parrot'],\n",
    "    'sport': ['Darts', 'Basketball', 'PaddleBoarding', 'Cricket']}\n",
    "studentData = pd.DataFrame(students)\n",
    "print(studentData)"
   ]
  },
  {
   "cell_type": "code",
   "execution_count": 11,
   "metadata": {},
   "outputs": [
    {
     "name": "stdout",
     "output_type": "stream",
     "text": [
      "      Name  Height Qualification  address  Age        Pets           sport  \\\n",
      "0      Jai     5.1           Msc    Delhi   21         Dog           Darts   \n",
      "1  janusha     6.2            MA     Doha   23       Bunny      Basketball   \n",
      "2   Gaurav     5.1           Msc  Chennai   24  Chinchilla  PaddleBoarding   \n",
      "3     Anuj     5.2           Msc   Dakhar   21      Parrot         Cricket   \n",
      "\n",
      "        deserts  \n",
      "0     ice cream  \n",
      "1  Cashew Fudge  \n",
      "2       waffels  \n",
      "3  Carrot Halwa  \n"
     ]
    }
   ],
   "source": [
    "# 17. Add a new column to the DataFrame with the following deserts:\n",
    "#         [\"ice cream\", \"Cashew Fudge\", \"waffels\", \"Carrot Halwa\"]\n",
    "deserts = [\"ice cream\", \"Cashew Fudge\", \"waffels\", \"Carrot Halwa\"]\n",
    "studentData['deserts'] = deserts\n",
    "print(studentData)"
   ]
  },
  {
   "cell_type": "code",
   "execution_count": 12,
   "metadata": {},
   "outputs": [
    {
     "name": "stdout",
     "output_type": "stream",
     "text": [
      "      Name  Height Qualification  address  Age        Pets           sport  \\\n",
      "3     Anuj     5.2           Msc   Dakhar   21      Parrot         Cricket   \n",
      "2   Gaurav     5.1           Msc  Chennai   24  Chinchilla  PaddleBoarding   \n",
      "0      Jai     5.1           Msc    Delhi   21         Dog           Darts   \n",
      "1  janusha     6.2            MA     Doha   23       Bunny      Basketball   \n",
      "\n",
      "        deserts  \n",
      "3  Carrot Halwa  \n",
      "2       waffels  \n",
      "0     ice cream  \n",
      "1  Cashew Fudge  \n"
     ]
    }
   ],
   "source": [
    "# 18. Sort the 'studentData' DataFrame in Ascending order -- Sorting by column 'Name' and then \"address\"\n",
    "studentData.sort_values(by = ['Name', 'address'], inplace = True)\n",
    "print(studentData)"
   ]
  },
  {
   "cell_type": "code",
   "execution_count": 39,
   "metadata": {},
   "outputs": [
    {
     "name": "stdout",
     "output_type": "stream",
     "text": [
      "        Cows  Goats\n",
      "Year 1    12     22\n",
      "Year 2    20     19\n"
     ]
    }
   ],
   "source": [
    "# 19. Save this `DataFrame` here below to disc as a `.CSV` file with the name `cows_and_goats.csv`:\n",
    "\n",
    "#     ```python\n",
    "#         df = pd.DataFrame({'Cows': [12, 20], 'Goats': [22, 19]}, index=['Year 1', 'Year 2'])\n",
    "#     ```\n",
    "df = pd.DataFrame({'Cows': [12, 20], 'Goats': [22, 19]}, index=['Year 1', 'Year 2'])\n",
    "print(df)\n",
    "df.to_csv(\"cows_and_goats.csv\")"
   ]
  },
  {
   "cell_type": "code",
   "execution_count": 11,
   "metadata": {},
   "outputs": [
    {
     "name": "stdout",
     "output_type": "stream",
     "text": [
      "  Vegetables   Color\n",
      "0   brocolli   green\n",
      "1     carrot  orange\n",
      "2     potato   brown\n",
      "  Vegetables   Color  quantity (lbs)\n",
      "0   brocolli   green             1.7\n",
      "1     carrot  orange             2.8\n",
      "2     potato   brown             3.9\n"
     ]
    }
   ],
   "source": [
    "# 20. (A) Using Pandas, make your own .CSV file with data on vegetables and save it. (B) Using Pandas, make a change to your CSV file, and save a copy with a different name.\n",
    "veg = pd.DataFrame({'Vegetables':['brocolli', 'carrot','potato'], 'Color':['green', 'orange', 'brown']})\n",
    "print(veg)\n",
    "veg.to_csv(\"Vegetables.csv\", index = False)\n",
    "\n",
    "import pandas as pd\n",
    "df = pd.read_csv(\"Vegetables.csv\")\n",
    "add = pd.DataFrame({'quantity (lbs)': [1.7,2.8,3.9]})\n",
    "df = pd.concat([df, add], axis=1)\n",
    "print(df)\n",
    "df.to_csv(\"Vegetable(lbs).csv\", index = False)\n"
   ]
  }
 ],
 "metadata": {
  "kernelspec": {
   "display_name": "Python 3",
   "language": "python",
   "name": "python3"
  },
  "language_info": {
   "codemirror_mode": {
    "name": "ipython",
    "version": 3
   },
   "file_extension": ".py",
   "mimetype": "text/x-python",
   "name": "python",
   "nbconvert_exporter": "python",
   "pygments_lexer": "ipython3",
   "version": "3.12.0"
  }
 },
 "nbformat": 4,
 "nbformat_minor": 2
}
